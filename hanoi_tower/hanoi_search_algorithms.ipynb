{
 "cells": [
  {
   "cell_type": "markdown",
   "metadata": {},
   "source": [
    "GitHub repository: [github.com/gonzafernan/ceia-iia](https://github.com/gonzafernan/ceia-iia)\n",
    "\n",
    "## Busquedas basadas en profundidad"
   ]
  },
  {
   "cell_type": "markdown",
   "metadata": {},
   "source": [
    "Herramienta para benchmark de memoria utilizada por los algoritmos y calidad de camino encontrado:"
   ]
  },
  {
   "cell_type": "code",
   "execution_count": 5,
   "metadata": {},
   "outputs": [],
   "source": [
    "import statistics\n",
    "import tracemalloc\n",
    "from typing import Callable\n",
    "\n",
    "def memory_benchmark(fn: Callable, runs: int, **kwargs) -> tuple[float, float]:\n",
    "    memory_peak_lst = []\n",
    "    for _ in range(runs):\n",
    "        tracemalloc.start()\n",
    "        fn(**kwargs)\n",
    "        _, memory_peak = tracemalloc.get_traced_memory()\n",
    "        memory_peak /= 1024*1024\n",
    "        tracemalloc.stop()\n",
    "        memory_peak_lst.append(memory_peak)\n",
    "    return statistics.mean(memory_peak_lst), statistics.stdev(memory_peak_lst)\n",
    "\n",
    "\n",
    "def solution_path_benchmark(fn: Callable, runs: int, **kwargs) -> tuple[int, int]:\n",
    "    path_solution = []\n",
    "    for _ in range(runs):\n",
    "        path_solution.append(fn(**kwargs).state.accumulated_cost)\n",
    "    return statistics.mean(path_solution), statistics.stdev(path_solution)"
   ]
  },
  {
   "cell_type": "markdown",
   "metadata": {},
   "source": [
    "Implementacion de los algoritmos:"
   ]
  },
  {
   "cell_type": "code",
   "execution_count": 6,
   "metadata": {},
   "outputs": [],
   "source": [
    "from aima import Node, Problem\n",
    "from typing import Optional\n",
    "\n",
    "def depth_first_search(initial_node: Node, problem: Problem) -> Optional[Node]:\n",
    "    \"\"\"Depth-first search (DFS)\"\"\"\n",
    "    frontier = [initial_node]\n",
    "    explored = set()\n",
    "    while len(frontier) > 0:\n",
    "        node = frontier.pop()\n",
    "        explored.add(node.state)\n",
    "        if problem.goal_test(node.state):\n",
    "            return node\n",
    "        frontier.extend(list(filter(lambda x: not x.state in explored, node.expand(problem))))\n",
    "    return None\n",
    "\n",
    "def depth_limited_search(initial_node: Node, problem: Problem, depth: int, explored: set) -> tuple[Optional[Node], bool]:\n",
    "    \"\"\"Depth-limited search (DLS). Recursive implementation.\"\"\"\n",
    "    if depth == 0:\n",
    "        return (initial_node, True) if problem.goal_test(initial_node.state) else (None, True)\n",
    "    any_remaining = False\n",
    "    for next_node in filter(lambda x: not x.state in explored, initial_node.expand(problem)):\n",
    "        explored.add(next_node.state)\n",
    "        ans_node, remaining = depth_limited_search(initial_node=next_node, problem=problem, depth=depth-1, explored=explored)\n",
    "        if ans_node:\n",
    "            return ans_node, True\n",
    "        if remaining:\n",
    "            any_remaining = True \n",
    "    return None, any_remaining\n",
    "\n",
    "\n",
    "def iterative_deepening_depth_first_search(initial_node: Node, problem: Problem, max_depth: int) -> Optional[Node]:\n",
    "    \"\"\"Iterative deepening depth-first search (IDDFS)\"\"\"\n",
    "    for depth in range(max_depth):\n",
    "        ans_node, remaining = depth_limited_search(initial_node=initial_node, problem=problem, depth=depth, explored=set([initial_node.state]))\n",
    "        if ans_node:\n",
    "            return ans_node\n",
    "        if not remaining:\n",
    "            return None\n",
    "    return None"
   ]
  },
  {
   "cell_type": "markdown",
   "metadata": {},
   "source": [
    "Definicion del problema:"
   ]
  },
  {
   "cell_type": "code",
   "execution_count": 7,
   "metadata": {},
   "outputs": [],
   "source": [
    "from hanoi_states import StatesHanoi, ProblemHanoi\n",
    "from tree_hanoi import NodeHanoi\n",
    "\n",
    "initial_state = StatesHanoi(rod1=[5, 4, 3, 2, 1], rod2=[], rod3=[], max_disks=5)\n",
    "goal_state = StatesHanoi(rod1=[], rod2=[], rod3=[5, 4, 3, 2, 1], max_disks=5)\n",
    "problem = ProblemHanoi(initial=initial_state, goal=goal_state)"
   ]
  },
  {
   "cell_type": "markdown",
   "metadata": {},
   "source": [
    "Ejecucion de los algoritmos con analisis de tiempo y memoria:"
   ]
  },
  {
   "cell_type": "code",
   "execution_count": 8,
   "metadata": {},
   "outputs": [
    {
     "name": "stdout",
     "output_type": "stream",
     "text": [
      "4.03 ms ± 63 μs per loop (mean ± std. dev. of 7 runs, 100 loops each)\n"
     ]
    }
   ],
   "source": [
    "%%timeit\n",
    "dfs_result = depth_first_search(initial_node=NodeHanoi(problem.initial), problem=problem)"
   ]
  },
  {
   "cell_type": "code",
   "execution_count": 9,
   "metadata": {},
   "outputs": [
    {
     "name": "stdout",
     "output_type": "stream",
     "text": [
      "Maxima memoria ocupada: 0.2393 [MB] +- 0.0019\n"
     ]
    }
   ],
   "source": [
    "memory_peak_mean, memory_peak_std = memory_benchmark(fn=depth_first_search, runs=20, initial_node=NodeHanoi(problem.initial), problem=problem)\n",
    "print(f\"Maxima memoria ocupada: {memory_peak_mean:.4f} [MB] +- {memory_peak_std:.4f}\")"
   ]
  },
  {
   "cell_type": "code",
   "execution_count": 10,
   "metadata": {},
   "outputs": [
    {
     "name": "stdout",
     "output_type": "stream",
     "text": [
      "Longitud de camino: 121.0 +- 0.0\n"
     ]
    }
   ],
   "source": [
    "path_mean, path_std = solution_path_benchmark(fn=depth_first_search, runs=20, initial_node=NodeHanoi(problem.initial), problem=problem)\n",
    "print(f\"Longitud de camino: {path_mean} +- {path_std}\")"
   ]
  },
  {
   "cell_type": "code",
   "execution_count": 11,
   "metadata": {},
   "outputs": [
    {
     "name": "stdout",
     "output_type": "stream",
     "text": [
      "170 ms ± 2.3 ms per loop (mean ± std. dev. of 7 runs, 10 loops each)\n"
     ]
    }
   ],
   "source": [
    "%%timeit\n",
    "iddfs_result = iterative_deepening_depth_first_search(initial_node=NodeHanoi(problem.initial), problem=problem, max_depth=150)"
   ]
  },
  {
   "cell_type": "code",
   "execution_count": 12,
   "metadata": {},
   "outputs": [
    {
     "name": "stdout",
     "output_type": "stream",
     "text": [
      "Maxima memoria ocupada: 0.4189 [MB] +- 0.0476\n"
     ]
    }
   ],
   "source": [
    "memory_peak_mean, memory_peak_std = memory_benchmark(iterative_deepening_depth_first_search, runs=20, initial_node=NodeHanoi(problem.initial), problem=problem, max_depth=150)\n",
    "print(f\"Maxima memoria ocupada: {memory_peak_mean:.4f} [MB] +- {memory_peak_std:.4f}\")"
   ]
  },
  {
   "cell_type": "code",
   "execution_count": 13,
   "metadata": {},
   "outputs": [
    {
     "name": "stdout",
     "output_type": "stream",
     "text": [
      "Longitud de camino: 65.0 +- 0.0\n"
     ]
    }
   ],
   "source": [
    "path_mean, path_std = solution_path_benchmark(fn=iterative_deepening_depth_first_search, runs=20, initial_node=NodeHanoi(problem.initial), problem=problem, max_depth=150)\n",
    "print(f\"Longitud de camino: {path_mean} +- {path_std}\")"
   ]
  },
  {
   "cell_type": "code",
   "execution_count": 14,
   "metadata": {},
   "outputs": [],
   "source": [
    "iddfs_result = iterative_deepening_depth_first_search(initial_node=NodeHanoi(problem.initial), problem=problem, max_depth=150)\n",
    "iddfs_result.generate_solution_for_simulator()"
   ]
  }
 ],
 "metadata": {
  "kernelspec": {
   "display_name": ".venv",
   "language": "python",
   "name": "python3"
  },
  "language_info": {
   "codemirror_mode": {
    "name": "ipython",
    "version": 3
   },
   "file_extension": ".py",
   "mimetype": "text/x-python",
   "name": "python",
   "nbconvert_exporter": "python",
   "pygments_lexer": "ipython3",
   "version": "3.10.12"
  }
 },
 "nbformat": 4,
 "nbformat_minor": 2
}
