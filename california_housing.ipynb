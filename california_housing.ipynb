{
 "cells": [
  {
   "cell_type": "code",
   "execution_count": null,
   "id": "initial_id",
   "metadata": {
    "is_executing": true
   },
   "outputs": [],
   "source": [
    "import pandas as pd\n",
    "# import numpy as np\n",
    "import matplotlib.pyplot as plt\n",
    "import seaborn as sns\n",
    "\n",
    "from scipy import stats\n",
    "\n",
    "from sklearn.datasets import fetch_california_housing\n",
    "from sklearn.model_selection import train_test_split, cross_val_score\n",
    "from sklearn.preprocessing import StandardScaler\n",
    "# from sklearn.metrics import r2_score, mean_absolute_error, mean_squared_error\n",
    "\n",
    "from sklearn.linear_model import Ridge\n",
    "\n",
    "# sns.set()"
   ]
  },
  {
   "cell_type": "markdown",
   "id": "fc079c7f8e6fdb1",
   "metadata": {
    "collapsed": false,
    "jupyter": {
     "outputs_hidden": false
    }
   },
   "source": [
    "# California Housing\n",
    "\n",
    "Este es un popular [dataset](https://scikit-learn.org/stable/datasets/real_world.html#california-housing-dataset) que vamos a estar leyendo desde **Scikit-Learn**.\n",
    "\n",
    "Se requiere construir una regresión que nos permita predecir el valor de valor medio de casas en distritos de California (medidos en ciento de miles de dólares $100.000). Este dataset deriva del censo de 1990 de EEUU, donde cada observación es un bloque. Un bloque es la unidad geográfica más pequeña para la cual la Oficina del Censo de EE. UU. publica datos de muestra (un bloque típicamente tiene una población de 600 a 3,000 personas).\n",
    "\n",
    "Un hogar es un grupo de personas que residen dentro de una casa. Dado que el número promedio de habitaciones y dormitorios en este conjunto de datos se proporciona por hogar, estas columnas pueden tomar valores grandes para grupos de bloques con pocos hogares y muchas casas vacías.\n",
    "\n",
    "Los atributos en el orden que se guardaron en el dataset son:\n",
    "\n",
    "- `MedInc`: Ingreso medio en el bloque\n",
    "- `HouseAge`: Edad mediana de las casas en el bloque\n",
    "- `AveRooms`: Número promedio de habitaciones por hogar.\n",
    "- `AveBedrms`: Número promedio de dormitorios por hogar.\n",
    "- `Population`: Población del bloque\n",
    "- `AveOccup`: Número promedio de miembros por hogar.\n",
    "- `Latitude`: Latitud del bloque\n",
    "- `Longitude`: Longitud del bloque\n",
    "\n",
    "Y el target es:\n",
    "\n",
    "MedHouseVal: Mediana del costo de casas en el bloque (en unidades de a $100.000)"
   ]
  },
  {
   "cell_type": "code",
   "execution_count": null,
   "id": "2a5842f97e2b9daa",
   "metadata": {
    "collapsed": false,
    "is_executing": true,
    "jupyter": {
     "outputs_hidden": false
    }
   },
   "outputs": [],
   "source": [
    "# Leemos el dataset\n",
    "california_housing = fetch_california_housing()\n",
    "\n",
    "# Y obtenemos los atributos y target\n",
    "X = california_housing.data\n",
    "y = california_housing.target\n",
    "\n",
    "# Transformamos en Pandas\n",
    "X = pd.DataFrame(X, columns=california_housing['feature_names'])\n",
    "y = pd.Series(y, name=california_housing['target_names'][0])\n",
    "\n",
    "# Unimos a X e y, esto ayuda a la parte de la gráfica del mapa de calor de correlación\n",
    "df_california = pd.concat([X, y], axis=1)"
   ]
  },
  {
   "cell_type": "code",
   "execution_count": null,
   "id": "b9709c1907a3f8a7",
   "metadata": {
    "collapsed": false,
    "is_executing": true,
    "jupyter": {
     "outputs_hidden": false
    }
   },
   "outputs": [],
   "source": [
    "df_california.head()"
   ]
  },
  {
   "cell_type": "code",
   "execution_count": null,
   "id": "ac6af619d900031c",
   "metadata": {
    "collapsed": false,
    "is_executing": true,
    "jupyter": {
     "outputs_hidden": false
    }
   },
   "outputs": [],
   "source": [
    "X.head()"
   ]
  },
  {
   "cell_type": "code",
   "execution_count": null,
   "id": "ab4b60432f9b4eba",
   "metadata": {
    "collapsed": false,
    "is_executing": true,
    "jupyter": {
     "outputs_hidden": false
    }
   },
   "outputs": [],
   "source": [
    "y.head()"
   ]
  },
  {
   "cell_type": "code",
   "execution_count": null,
   "id": "a347a4f617e5b82c",
   "metadata": {
    "collapsed": false,
    "is_executing": true,
    "jupyter": {
     "outputs_hidden": false
    }
   },
   "outputs": [],
   "source": [
    "# Acá generamos varios valores de alpha para la búsqueda pedida en el TP."
   ]
  },
  {
   "cell_type": "markdown",
   "id": "708f79bf",
   "metadata": {},
   "source": [
    "1. Obtener la correlación entre los atributos y los atributos con el target. ¿Cuál atributo tiene mayor correlación lineal con el target y cuáles atributos parecen estar más correlacionados entre sí? Se puede obtener los valores o directamente graficar usando un mapa de calor."
   ]
  },
  {
   "cell_type": "code",
   "execution_count": null,
   "id": "d16be8ea",
   "metadata": {},
   "outputs": [],
   "source": [
    "df_california_corr = df_california.corr()\n",
    "\n",
    "# Correlation plot\n",
    "fig = plt.figure(figsize=df_california_corr.shape)\n",
    "plt.matshow(df_california_corr, fignum=fig.number)\n",
    "plt.xticks(range(df_california_corr.shape[0]), df_california_corr.columns,\n",
    "           fontsize=10, rotation=45)\n",
    "plt.yticks(range(df_california_corr.shape[1]), df_california_corr.columns,\n",
    "           fontsize=10, rotation=45)\n",
    "cb = plt.colorbar()"
   ]
  },
  {
   "cell_type": "markdown",
   "id": "5e026832",
   "metadata": {},
   "source": [
    "Del mapa de calor se observa que:\n",
    "- El atributo con mayor correlación lineal con el target *MedHouseVal* es *MedInc*, es decir, el ingreso medio en el bloque.\n",
    "- *AveRooms* y *AveBedrms* estan altamente correlacionados.\n",
    "- *Latitude* y *Longitude* estan inversamente correlacionados."
   ]
  },
  {
   "cell_type": "markdown",
   "id": "c0deb86f",
   "metadata": {},
   "source": [
    "2. Graficar los histogramas de los diferentes atributos y el target. ¿Qué tipo de forma de histograma se observa? ¿Se observa alguna forma de campana que nos indique que los datos pueden provenir de una distribución gaussiana, sin entrar en pruebas de hipótesis?"
   ]
  },
  {
   "cell_type": "code",
   "execution_count": null,
   "id": "f8b7a75c",
   "metadata": {},
   "outputs": [],
   "source": [
    "fig, axs = plt.subplots(ncols=len(df_california.columns), nrows=1)\n",
    "for idx, col in enumerate(df_california.columns):\n",
    "    print(col , \": \", stats.normaltest(df_california[col]).statistic)\n",
    "    sns.histplot(data=df_california, x=col, ax=axs[idx], kde=True)\n",
    "fig.set_size_inches(35, 5)"
   ]
  },
  {
   "cell_type": "markdown",
   "id": "71e535c1",
   "metadata": {},
   "source": [
    "De los histogramas y el test normal se observa que las siguientes variables pueden provenir de una distribución gaussiana:\n",
    "- *MedInc*\n",
    "- *AveRooms*\n",
    "- *AveBedrms*\n",
    "- *Population*\n",
    "- *AveOccup*\n",
    "- *MedHouseVal*"
   ]
  },
  {
   "cell_type": "markdown",
   "id": "1afa6aeb",
   "metadata": {},
   "source": [
    "3. Calcular la regresión lineal usando todos los atributos. Con el set de entrenamiento, calcular la varianza total del modelo y la que es explicada con el modelo. ¿El modelo está capturando el comportamiento del target? Expanda su respuesta."
   ]
  },
  {
   "cell_type": "code",
   "execution_count": null,
   "id": "be2e0c22a0da2786",
   "metadata": {
    "collapsed": false,
    "is_executing": true,
    "jupyter": {
     "outputs_hidden": false
    }
   },
   "outputs": [],
   "source": [
    "X_train, X_test, y_train, y_test = train_test_split(X,  y, test_size=0.3, random_state=42)"
   ]
  },
  {
   "cell_type": "code",
   "execution_count": null,
   "id": "5e4f8a6651a59e25",
   "metadata": {
    "collapsed": false,
    "is_executing": true,
    "jupyter": {
     "outputs_hidden": false
    }
   },
   "outputs": [],
   "source": [
    "# Escalemos los datos\n",
    "scaler = StandardScaler()\n",
    "X_train_scaled = scaler.fit_transform(X_train)\n",
    "X_test_scaled = scaler.transform(X_test)\n",
    "\n",
    "# Lo transformemos en DataFrames\n",
    "X_train_scaled = pd.DataFrame(X_train_scaled, columns=california_housing['feature_names'])\n",
    "X_test_scaled = pd.DataFrame(X_test_scaled, columns=california_housing['feature_names'])"
   ]
  },
  {
   "cell_type": "code",
   "execution_count": null,
   "id": "173c93ae1ca22667",
   "metadata": {
    "collapsed": false,
    "is_executing": true,
    "jupyter": {
     "outputs_hidden": false
    }
   },
   "outputs": [],
   "source": [
    "X_train_scaled.head()"
   ]
  },
  {
   "cell_type": "markdown",
   "id": "cd24d780",
   "metadata": {},
   "source": [
    "\n",
    "4. Calcular las métricas de MSE, MAE y R2 del set de evaluación.\n",
    "5. Crear una regresión de Ridge. Usando una validación cruzada de 5-folds y usando como métrica el MSE, calcular el mejor valor de \\alpha, buscando entre [0, 12.5]. Graficar el valor de MSE versus \\alpha\n",
    "6. Comparar, entre la regresión lineal y la mejor regresión de Ridge, los resultados obtenidos en el set de evaluación. ¿Cuál da mejores resultados (usando MSE y MAE)? Conjeturar por qué el mejor modelo mejora. ¿Qué error puede haberse reducido?"
   ]
  },
  {
   "cell_type": "markdown",
   "id": "d45225a6d622f98",
   "metadata": {
    "collapsed": false,
    "jupyter": {
     "outputs_hidden": false
    }
   },
   "source": [
    "Aquí se muestra un ejemplo de validación cruzada.\n",
    "\n",
    "- Usamos método de 5-folds\n",
    "- Usamos el MSE. [Scikit-Learn](https://scikit-learn.org/stable/modules/generated/sklearn.model_selection.cross_val_score.html#sklearn.model_selection.cross_val_score) usa el valor negativo por motivos de simplificar el funcionamiento de otras funciones de la libreria."
   ]
  },
  {
   "cell_type": "code",
   "execution_count": null,
   "id": "6bf9ae822cf0547e",
   "metadata": {
    "collapsed": false,
    "is_executing": true,
    "jupyter": {
     "outputs_hidden": false
    }
   },
   "outputs": [],
   "source": [
    "# Creamos un modelo\n",
    "alpha = 1.0\n",
    "ridge_model = Ridge(alpha=alpha)\n",
    "\n",
    "# Este la forma que se implementa en scikit-learn\n",
    "cv = cross_val_score(ridge_model, X_train_scaled, y=y_train, scoring=\"neg_mean_squared_error\", cv=5, n_jobs=-1)\n",
    "\n",
    "# Este calculo nos devuelve el valor de MSE para cada una de los folds\n",
    "cv"
   ]
  },
  {
   "cell_type": "code",
   "execution_count": null,
   "id": "847380d4e19ae5fb",
   "metadata": {
    "collapsed": false,
    "is_executing": true,
    "jupyter": {
     "outputs_hidden": false
    }
   },
   "outputs": [],
   "source": [
    "# Podemos obtener el valor medio y desvio estandar de cada caso:\n",
    "print(f\"La media del MSE en 5-fold CV para la regresión Ridge con alpha={alpha} es {(-1)*cv.mean()}\")\n",
    "print(f\"El desvío estándar del MSE en 5-fold CV para la regresión Ridge con alpha={alpha} es {cv.std()}\")"
   ]
  },
  {
   "cell_type": "code",
   "execution_count": null,
   "id": "851257cf987268ce",
   "metadata": {
    "collapsed": false,
    "is_executing": true,
    "jupyter": {
     "outputs_hidden": false
    }
   },
   "outputs": [],
   "source": [
    "alpha_values = np.linspace(0, 12.5, 100)\n",
    "alpha_values"
   ]
  }
 ],
 "metadata": {
  "kernelspec": {
   "display_name": "Python 3 (ipykernel)",
   "language": "python",
   "name": "python3"
  },
  "language_info": {
   "codemirror_mode": {
    "name": "ipython",
    "version": 3
   },
   "file_extension": ".py",
   "mimetype": "text/x-python",
   "name": "python",
   "nbconvert_exporter": "python",
   "pygments_lexer": "ipython3",
   "version": "3.12.4"
  }
 },
 "nbformat": 4,
 "nbformat_minor": 5
}
